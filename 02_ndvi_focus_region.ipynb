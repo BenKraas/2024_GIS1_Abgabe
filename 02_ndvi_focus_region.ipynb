{
 "cells": [
  {
   "cell_type": "markdown",
   "metadata": {},
   "source": [
    "# NDVI over Sentinel-2 imagery in the focus region"
   ]
  },
  {
   "cell_type": "code",
   "execution_count": 3,
   "metadata": {},
   "outputs": [],
   "source": [
    "import geopandas as gpd\n",
    "import rasterio as rio\n",
    "from pathlib import Path"
   ]
  },
  {
   "cell_type": "code",
   "execution_count": 4,
   "metadata": {},
   "outputs": [],
   "source": [
    "def load_focus_region() -> gpd.GeoDataFrame:\n",
    "    \"\"\"\n",
    "    Load the shapefile for the focus region\n",
    "    Author: #########\n",
    "\n",
    "    Args:\n",
    "        None\n",
    "    Returns:\n",
    "        shapefile_focus_region (gpd.GeoDataFrame): The shapefile for the focus region\n",
    "    \"\"\"\n",
    "    # Code here\n",
    "\n",
    "    assert isinstance(shapefile_focus_region, gpd.GeoDataFrame), \"shapefile_focus_region is not a GeoDataFrame\"\n",
    "    return shapefile_focus_region\n",
    "\n",
    "# load geotiff file as rasterio object\n",
    "def load_geotiff(path: Path) -> gpd.GeoDataFrame:\n",
    "    \"\"\"\n",
    "    Load the geotiff file as a rasterio object\n",
    "    Args: \n",
    "        path (Path): Path to the geotiff file\n",
    "    Returns: \n",
    "        geodataframe (gpd.GeoDataFrame): The geopandas GeoDataFrame\n",
    "    \"\"\"\n",
    "    with rio.open(path) as src:\n",
    "        # Read the geotiff file as a numpy array\n",
    "        geodataframe = gpd.GeoDataFrame(src.read())\n",
    "    \n",
    "    assert isinstance(geodataframe, gpd.GeoDataFrame), \"geodataframe is not a GeoDataFrame\"\n",
    "    return geodataframe\n",
    "\n",
    "def index_NDVI(geodataframe: gpd.GeoDataFrame) -> gpd.GeoDataFrame:\n",
    "    \"\"\"\n",
    "    Index the NDVI\n",
    "    Args:\n",
    "        geodataframe (gpd.GeoDataFrame): The geopandas GeoDataFrame\n",
    "    Returns:\n",
    "        indexed_geodataframe (gpd.GeoDataFrame): The indexed geopandas GeoDataFrame\n",
    "    \"\"\"\n",
    "    # Code here\n",
    "\n",
    "    assert isinstance(NDVI, gpd.GeoDataFrame), \"indexed_geodataframe is not a GeoDataFrame\"\n",
    "    return NDVI\n",
    "\n",
    "def calculate_raster_difference(geodataframe1: gpd.GeoDataFrame, geodataframe2: gpd.GeoDataFrame) -> gpd.GeoDataFrame:\n",
    "    \"\"\"\n",
    "    Calculate the difference between two rasters\n",
    "    Args:\n",
    "        geodataframe1 (gpd.GeoDataFrame): The first geopandas GeoDataFrame\n",
    "        geodataframe2 (gpd.GeoDataFrame): The second geopandas GeoDataFrame\n",
    "    Returns:\n",
    "        difference_geodataframe (gpd.GeoDataFrame): The difference geopandas GeoDataFrame\n",
    "    \"\"\"\n",
    "    # convert the geodataframe to numpy array\n",
    "    nparray1 = geodataframe1.to_numpy()\n",
    "    nparray2 = geodataframe2.to_numpy()\n",
    "\n",
    "    # calculate the difference\n",
    "    difference = nparray1 - nparray2\n",
    "\n",
    "    # convert the difference to geodataframe with the same crs and geolocation as the input geodataframes\n",
    "    difference_geodataframe = gpd.GeoDataFrame(difference, \n",
    "                                               crs=geodataframe1.crs, \n",
    "                                               geometry=geodataframe1.geometry, \n",
    "                                               index=geodataframe1.index)\n",
    "\n",
    "    assert isinstance(difference_geodataframe, gpd.GeoDataFrame), \"difference_geodataframe is not a GeoDataFrame\"\n",
    "    return difference_geodataframe"
   ]
  },
  {
   "cell_type": "code",
   "execution_count": null,
   "metadata": {},
   "outputs": [],
   "source": [
    "# Main script\n",
    "\n",
    "# Load the focus region\n",
    "shapefile_focus_region = load_focus_region()\n",
    "\n",
    "# Load the geotiff file as a rasterio object\n",
    "raster_old = load_geotiff(Path(\"path_to_geotiff_file\"))\n",
    "raster_new = load_geotiff(Path(\"path_to_geotiff_file\"))\n",
    "\n",
    "# Calculate the NDVI indexs \n",
    "NDVI_old = index_NDVI(raster_old)\n",
    "NDVI_new = index_NDVI(raster_new)\n",
    "\n",
    "# Calculate the difference between the two rasters\n",
    "difference = calculate_raster_difference(NDVI_old, NDVI_new)\n",
    "\n",
    "print(\"Success!\")"
   ]
  }
 ],
 "metadata": {
  "kernelspec": {
   "display_name": "MMB_SWOT_2024",
   "language": "python",
   "name": "python3"
  },
  "language_info": {
   "codemirror_mode": {
    "name": "ipython",
    "version": 3
   },
   "file_extension": ".py",
   "mimetype": "text/x-python",
   "name": "python",
   "nbconvert_exporter": "python",
   "pygments_lexer": "ipython3",
   "version": "3.13.2"
  }
 },
 "nbformat": 4,
 "nbformat_minor": 2
}
