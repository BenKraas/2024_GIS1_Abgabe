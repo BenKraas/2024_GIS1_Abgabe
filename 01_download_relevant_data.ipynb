{
 "cells": [
  {
   "cell_type": "markdown",
   "metadata": {},
   "source": [
    "# Workflow for downloading relevant data for the GIS1 final exercise\n",
    "Unfortunately, this code does not work. The data must be collected manually from Google Earth Engine (eg. to Google Drive) using the \"java_code_ge.js\" script in the browser IDE.\n",
    "The rasters must be placed into \n",
    "\n"
   ]
  },
  {
   "cell_type": "code",
   "execution_count": 1,
   "metadata": {},
   "outputs": [
    {
     "name": "stderr",
     "output_type": "stream",
     "text": [
      "/home/ben/.local/share/mamba/envs/GIS1/lib/python3.13/site-packages/tqdm/auto.py:21: TqdmWarning: IProgress not found. Please update jupyter and ipywidgets. See https://ipywidgets.readthedocs.io/en/stable/user_install.html\n",
      "  from .autonotebook import tqdm as notebook_tqdm\n"
     ]
    }
   ],
   "source": [
    "# Standard library imports\n",
    "\n",
    "# Third party imports\n",
    "import rasterio as rio\n",
    "import pandas as pd\n",
    "import numpy as np\n",
    "import geopandas as gpd\n",
    "from sentinelhub import SentinelHubRequest, DataCollection, MimeType, CRS, BBox, SHConfig, Geometry\n"
   ]
  },
  {
   "cell_type": "code",
   "execution_count": 3,
   "metadata": {},
   "outputs": [],
   "source": [
    "# Attempt at automatically downloading Sentinel-2 data (Failed)\n",
    "\n",
    "# This is script may only work with sentinelhub.__version__ >= '3.4.0'\n",
    "\n",
    "# # Credentials\n",
    "# config = SHConfig()\n",
    "# config.sh_client_id = '<your client id here>'\n",
    "# config.sh_client_secret = '<your client secret here>'\n",
    "# evalscript = \"\"\"\n",
    "# //VERSION=3\n",
    "\n",
    "# function setup() {\n",
    "#   return {\n",
    "#     input: [\"B02\", \"B03\", \"B04\"],\n",
    "#     output: { bands: 3 }\n",
    "#   };\n",
    "# }\n",
    "\n",
    "# function evaluatePixel(sample) {\n",
    "#   return [2.5 * sample.B04, 2.5 * sample.B03, 2.5 * sample.B02];\n",
    "# }\n",
    "# \"\"\"\n",
    "# bbox = BBox(bbox=[34.074668, 47.364874, 36.365208, 48.447422], crs=CRS.WGS84)\n",
    "\n",
    "# request = SentinelHubRequest(\n",
    "#     evalscript=evalscript,\n",
    "#     input_data=[\n",
    "#         SentinelHubRequest.input_data(\n",
    "#             data_collection=DataCollection.SENTINEL2_L2A,          \n",
    "#             time_interval=('2021-01-01', '2024-12-31'),          \n",
    "#         ),\n",
    "#     ],\n",
    "#     responses=[\n",
    "#         SentinelHubRequest.output_response('default', MimeType.TIFF),\n",
    "#     ],\n",
    "#     bbox=bbox,\n",
    "#     size=[512, 357.27],\n",
    "#     config=config\n",
    "# )\n",
    "\n",
    "# response = request.get_data()\n"
   ]
  }
 ],
 "metadata": {
  "kernelspec": {
   "display_name": "GIS1",
   "language": "python",
   "name": "python3"
  },
  "language_info": {
   "codemirror_mode": {
    "name": "ipython",
    "version": 3
   },
   "file_extension": ".py",
   "mimetype": "text/x-python",
   "name": "python",
   "nbconvert_exporter": "python",
   "pygments_lexer": "ipython3",
   "version": "3.13.2"
  }
 },
 "nbformat": 4,
 "nbformat_minor": 2
}
