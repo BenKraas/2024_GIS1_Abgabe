{
 "cells": [
  {
   "cell_type": "markdown",
   "metadata": {},
   "source": [
    "# Workflow for downloading relevant data for the GIS1 final exercise\n",
    "\n",
    "## Aim\n",
    "Text here...\n",
    "The Storymap for this project can be found [here](www.google.de)\n",
    "\n",
    "## Ressources\n",
    "- Source 1 (2024), ....\n",
    "- ...\n",
    "\n",
    "\n"
   ]
  },
  {
   "cell_type": "code",
   "execution_count": null,
   "metadata": {},
   "outputs": [],
   "source": [
    "# Standard library imports\n",
    "\n",
    "# Third party imports\n",
    "import rasterio as rio\n",
    "import pandas as pd\n",
    "import numpy as np"
   ]
  },
  {
   "cell_type": "code",
   "execution_count": null,
   "metadata": {},
   "outputs": [],
   "source": [
    "# Download NDVI data\n",
    "\n",
    "import earthaccess\n",
    "\n",
    "# 1. Login\n",
    "earthaccess.login()\n",
    "\n",
    "# 2. Search\n",
    "results = earthaccess.search_data(\n",
    "    short_name='ATL06',  # ATLAS/ICESat-2 L3A Land Ice Height\n",
    "    bounding_box=(-10, 20, 10, 50),  # Only include files in area of interest...\n",
    "    temporal=(\"1999-02\", \"2019-03\"),  # ...and time period of interest.\n",
    "    count=10\n",
    ")\n",
    "\n",
    "# 3. Access\n",
    "files = earthaccess.download(results, \"/tmp/my-download-folder\")"
   ]
  }
 ],
 "metadata": {
  "kernelspec": {
   "display_name": "GeoEnv",
   "language": "python",
   "name": "python3"
  },
  "language_info": {
   "name": "python",
   "version": "3.11.10"
  }
 },
 "nbformat": 4,
 "nbformat_minor": 2
}
