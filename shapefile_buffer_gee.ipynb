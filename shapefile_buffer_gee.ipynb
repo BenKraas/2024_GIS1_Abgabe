{
 "cells": [
  {
   "cell_type": "code",
   "execution_count": 2,
   "metadata": {},
   "outputs": [
    {
     "data": {
      "text/html": [
       "\n",
       "            <style>\n",
       "                .geemap-dark {\n",
       "                    --jp-widgets-color: white;\n",
       "                    --jp-widgets-label-color: white;\n",
       "                    --jp-ui-font-color1: white;\n",
       "                    --jp-layout-color2: #454545;\n",
       "                    background-color: #383838;\n",
       "                }\n",
       "                    \n",
       "                .geemap-dark .jupyter-button {\n",
       "                    --jp-layout-color3: #383838;\n",
       "                }\n",
       "                \n",
       "                .geemap-colab {\n",
       "                    background-color: var(--colab-primary-surface-color, white);\n",
       "                }\n",
       "                    \n",
       "                .geemap-colab .jupyter-button {\n",
       "                    --jp-layout-color3: var(--colab-primary-surface-color, white);\n",
       "                }\n",
       "            </style>\n",
       "            "
      ],
      "text/plain": [
       "<IPython.core.display.HTML object>"
      ]
     },
     "metadata": {},
     "output_type": "display_data"
    },
    {
     "data": {
      "application/vnd.jupyter.widget-view+json": {
       "model_id": "d856f5689af5405b9265861de0cdc152",
       "version_major": 2,
       "version_minor": 0
      },
      "text/plain": [
       "Map(center=[48.219340194348995, 38.90372058850941], controls=(WidgetControl(options=['position', 'transparent_…"
      ]
     },
     "metadata": {},
     "output_type": "display_data"
    }
   ],
   "source": [
    "import geemap\n",
    "import ee\n",
    "\n",
    "# Authentifizieren und Initialisieren\n",
    "#ee.Authenticate()\n",
    "ee.Initialize()\n",
    "\n",
    "# Erstellen einer Karte\n",
    "Map = geemap.Map()\n",
    "\n",
    "# Shapefile von Google Earth Engine laden\n",
    "# Dafür 'projects/jmtgis24/assets/shapefile_test' durch den Pfad der Shapefile in GEE ersetzen\n",
    "shapefile = ee.FeatureCollection('projects/jmtgis24/assets/shapefile_test')\n",
    "\n",
    "# Puffer von 50 km um die Shapefile erstellen\n",
    "buffered_shapefile = shapefile.map(lambda feature: feature.buffer(50000))\n",
    "\n",
    "# Shapefile zur Karte hinzufügen\n",
    "Map.addLayer(shapefile, {'color': 'blue'}, 'Shapefile')\n",
    "\n",
    "# Gebufferte Shapefile zur Karte hinzufügen\n",
    "Map.addLayer(buffered_shapefile, {'color': 'lightblue'}, 'Buffered Shapefile')\n",
    "\n",
    "# Zentrieren der Karte auf die Shapefile\n",
    "Map.centerObject(shapefile, 7)\n",
    "\n",
    "# Karte anzeigen\n",
    "Map"
   ]
  }
 ],
 "metadata": {
  "kernelspec": {
   "display_name": "GIS1",
   "language": "python",
   "name": "python3"
  },
  "language_info": {
   "codemirror_mode": {
    "name": "ipython",
    "version": 3
   },
   "file_extension": ".py",
   "mimetype": "text/x-python",
   "name": "python",
   "nbconvert_exporter": "python",
   "pygments_lexer": "ipython3",
   "version": "3.11.5"
  }
 },
 "nbformat": 4,
 "nbformat_minor": 2
}
