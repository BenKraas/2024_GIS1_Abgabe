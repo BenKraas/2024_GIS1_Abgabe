{
 "cells": [
  {
   "cell_type": "markdown",
   "metadata": {},
   "source": [
    "# NDVI over Sentinel-2 imagery in the focus region"
   ]
  },
  {
   "cell_type": "code",
   "execution_count": null,
   "metadata": {},
   "outputs": [],
   "source": [
    "import geopandas as gpd\n",
    "import rasterio as rio\n",
    "from pathlib import Path\n",
    "from shapely.geometry import box\n",
    "\n",
    "# this script directory in jupyterlab\n",
    "script_dir = Path.cwd()"
   ]
  },
  {
   "cell_type": "code",
   "execution_count": null,
   "metadata": {},
   "outputs": [
    {
     "ename": "AttributeError",
     "evalue": "module 'rasterio' has no attribute 'shutil'",
     "output_type": "error",
     "traceback": [
      "\u001b[31m---------------------------------------------------------------------------\u001b[39m",
      "\u001b[31mAttributeError\u001b[39m                            Traceback (most recent call last)",
      "\u001b[36mCell\u001b[39m\u001b[36m \u001b[39m\u001b[32mIn[15]\u001b[39m\u001b[32m, line 20\u001b[39m\n\u001b[32m     17\u001b[39m     \u001b[38;5;28;01massert\u001b[39;00m \u001b[38;5;28misinstance\u001b[39m(shapefile_focus_region, gpd.GeoDataFrame), \u001b[33m\"\u001b[39m\u001b[33mshapefile_focus_region is not a GeoDataFrame\u001b[39m\u001b[33m\"\u001b[39m\n\u001b[32m     18\u001b[39m     \u001b[38;5;28;01mreturn\u001b[39;00m shapefile_focus_region\n\u001b[32m---> \u001b[39m\u001b[32m20\u001b[39m focus_region = \u001b[43mload_focus_region\u001b[49m\u001b[43m(\u001b[49m\u001b[43m)\u001b[49m\n\u001b[32m     21\u001b[39m \u001b[38;5;28mprint\u001b[39m(focus_region)\n",
      "\u001b[36mCell\u001b[39m\u001b[36m \u001b[39m\u001b[32mIn[15]\u001b[39m\u001b[32m, line 12\u001b[39m, in \u001b[36mload_focus_region\u001b[39m\u001b[34m()\u001b[39m\n\u001b[32m      2\u001b[39m \u001b[38;5;250m\u001b[39m\u001b[33;03m\"\"\"\u001b[39;00m\n\u001b[32m      3\u001b[39m \u001b[33;03mLoad the shapefile for the focus region\u001b[39;00m\n\u001b[32m      4\u001b[39m \u001b[33;03mAuthor: jan mattis töller\u001b[39;00m\n\u001b[32m   (...)\u001b[39m\u001b[32m      9\u001b[39m \u001b[33;03m    shapefile_focus_region (gpd.GeoDataFrame): The shapefile for the focus region\u001b[39;00m\n\u001b[32m     10\u001b[39m \u001b[33;03m\"\"\"\u001b[39;00m\n\u001b[32m     11\u001b[39m \u001b[38;5;66;03m# Set SHAPE_RESTORE_SHX config option to YES to restore or create it.\u001b[39;00m\n\u001b[32m---> \u001b[39m\u001b[32m12\u001b[39m \u001b[43mrasterio\u001b[49m\u001b[43m.\u001b[49m\u001b[43mshutil\u001b[49m.config.SHAPE_RESTORE_SHX = \u001b[38;5;28;01mTrue\u001b[39;00m\n\u001b[32m     14\u001b[39m shapefile_path = script_dir / \u001b[33m\"\u001b[39m\u001b[33mdata\u001b[39m\u001b[33m\"\u001b[39m / \u001b[33m\"\u001b[39m\u001b[33msource\u001b[39m\u001b[33m\"\u001b[39m / \u001b[33m\"\u001b[39m\u001b[33mfrontlinie.shp\u001b[39m\u001b[33m\"\u001b[39m\n\u001b[32m     15\u001b[39m shapefile_focus_region = gpd.read_file(shapefile_path)\n",
      "\u001b[31mAttributeError\u001b[39m: module 'rasterio' has no attribute 'shutil'"
     ]
    }
   ],
   "source": [
    "def load_focus_region() -> gpd.GeoDataFrame:\n",
    "    \"\"\"\n",
    "    Load the shapefile for the focus region\n",
    "    Author: jan mattis töller\n",
    "\n",
    "    Args:\n",
    "        None\n",
    "    Returns:\n",
    "        shapefile_focus_region (gpd.GeoDataFrame): The shapefile for the focus region\n",
    "    \"\"\"\n",
    "    shapefile_path = script_dir / \"data\" / \"source\" / \"frontlinie.shp\"\n",
    "    shapefile_focus_region = gpd.read_file(shapefile_path)\n",
    "\n",
    "    assert isinstance(shapefile_focus_region, gpd.GeoDataFrame), \"shapefile_focus_region is not a GeoDataFrame\"\n",
    "    return shapefile_focus_region\n",
    "\n",
    "focus_region = load_focus_region()\n",
    "print(focus_region)"
   ]
  },
  {
   "cell_type": "code",
   "execution_count": null,
   "metadata": {},
   "outputs": [],
   "source": [
    "def load_geotiff(path: Path) -> gpd.GeoDataFrame:\n",
    "    \"\"\"\n",
    "    Load the geotiff file as a rasterio object\n",
    "    Args: \n",
    "        path (Path): Path to the geotiff file\n",
    "    Returns: \n",
    "        geodataframe (gpd.GeoDataFrame): The geopandas GeoDataFrame\n",
    "    \"\"\"\n",
    "    with rio.open(path) as src:\n",
    "        # Read the geotiff file as a numpy array\n",
    "        data = src.read()\n",
    "        meta = src.meta\n",
    "\n",
    "        geodataframe = gpd.GeoDataFrame(\n",
    "            data=data,\n",
    "            crs=meta['crs'],\n",
    "            geometry=[box(*src.bounds)],\n",
    "        )\n",
    "    \n",
    "    assert isinstance(geodataframe, gpd.GeoDataFrame), \"geodataframe is not a GeoDataFrame\"\n",
    "    return geodataframe"
   ]
  },
  {
   "cell_type": "code",
   "execution_count": 14,
   "metadata": {},
   "outputs": [],
   "source": [
    "def index_NDVI(geodataframe: gpd.GeoDataFrame) -> gpd.GeoDataFrame:\n",
    "    \"\"\"\n",
    "    Index the NDVI\n",
    "    Args:\n",
    "        geodataframe (gpd.GeoDataFrame): The geopandas GeoDataFrame\n",
    "    Returns:\n",
    "        indexed_geodataframe (gpd.GeoDataFrame): The indexed geopandas GeoDataFrame\n",
    "    \"\"\"\n",
    "    # Assuming the GeoDataFrame has columns 'NIR' and 'Red' for the respective bands\n",
    "    if 'NIR' not in geodataframe.columns or 'Red' not in geodataframe.columns:\n",
    "        raise ValueError(\"GeoDataFrame must contain 'NIR' and 'Red' columns\")\n",
    "\n",
    "    # Calculate NDVI\n",
    "    geodataframe['NDVI'] = (geodataframe['NIR'] - geodataframe['Red']) / (geodataframe['NIR'] + geodataframe['Red'])\n",
    "\n",
    "    assert isinstance(geodataframe, gpd.GeoDataFrame), \"indexed_geodataframe is not a GeoDataFrame\"\n",
    "    return geodataframe"
   ]
  },
  {
   "cell_type": "code",
   "execution_count": null,
   "metadata": {},
   "outputs": [],
   "source": [
    "def calculate_raster_difference(geodataframe1: gpd.GeoDataFrame, geodataframe2: gpd.GeoDataFrame) -> gpd.GeoDataFrame:\n",
    "    \"\"\"\n",
    "    Calculate the difference between two rasters\n",
    "    Args:\n",
    "        geodataframe1 (gpd.GeoDataFrame): The first geopandas GeoDataFrame\n",
    "        geodataframe2 (gpd.GeoDataFrame): The second geopandas GeoDataFrame\n",
    "    Returns:\n",
    "        difference_geodataframe (gpd.GeoDataFrame): The difference geopandas GeoDataFrame\n",
    "    \"\"\"\n",
    "    # Ensure both GeoDataFrames have the same columns\n",
    "    if not geodataframe1.columns.equals(geodataframe2.columns):\n",
    "        raise ValueError(\"GeoDataFrames must have the same columns\")\n",
    "\n",
    "    # Calculate the difference for each column except 'geometry'\n",
    "    difference_data = {}\n",
    "    for column in geodataframe1.columns:\n",
    "        if column != 'geometry':\n",
    "            difference_data[column] = geodataframe1[column] - geodataframe2[column]\n",
    "\n",
    "    # Create a new GeoDataFrame with the difference data\n",
    "    difference_geodataframe = gpd.GeoDataFrame(difference_data, \n",
    "                                               crs=geodataframe1.crs, \n",
    "                                               geometry=geodataframe1.geometry)\n",
    "\n",
    "    assert isinstance(difference_geodataframe, gpd.GeoDataFrame), \"difference_geodataframe is not a GeoDataFrame\"\n",
    "    return difference_geodataframe"
   ]
  },
  {
   "cell_type": "code",
   "execution_count": null,
   "metadata": {},
   "outputs": [],
   "source": [
    "# Hauptskript\n",
    "\n",
    "# Load the focus region\n",
    "shapefile_focus_region = load_focus_region()\n",
    "\n",
    "# Load the geotiff file as a rasterio object\n",
    "raster_old = load_geotiff(Path(\"path_to_geotiff_file_old\"))\n",
    "raster_new = load_geotiff(Path(\"path_to_geotiff_file_new\"))\n",
    "\n",
    "# Calculate the NDVI indexs \n",
    "NDVI_old = index_NDVI(raster_old)\n",
    "NDVI_new = index_NDVI(raster_new)\n",
    "\n",
    "# Calculate the difference between the two rasters\n",
    "difference = calculate_raster_difference(NDVI_old, NDVI_new)\n",
    "\n",
    "print(\"Success!\")"
   ]
  }
 ],
 "metadata": {
  "kernelspec": {
   "display_name": "GIS1",
   "language": "python",
   "name": "python3"
  },
  "language_info": {
   "codemirror_mode": {
    "name": "ipython",
    "version": 3
   },
   "file_extension": ".py",
   "mimetype": "text/x-python",
   "name": "python",
   "nbconvert_exporter": "python",
   "pygments_lexer": "ipython3",
   "version": "3.13.2"
  }
 },
 "nbformat": 4,
 "nbformat_minor": 2
}
