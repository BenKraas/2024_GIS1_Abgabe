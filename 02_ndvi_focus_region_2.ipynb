{
 "cells": [
  {
   "cell_type": "markdown",
   "metadata": {},
   "source": [
    "# NDVI over Sentinel-2 imagery in the focus region"
   ]
  },
  {
   "cell_type": "code",
   "execution_count": 1,
   "metadata": {},
   "outputs": [],
   "source": [
    "import geopandas as gpd\n",
    "import rasterio as rio\n",
    "from pathlib import Path\n",
    "from shapely.geometry import box\n",
    "\n",
    "# this script directory in jupyterlab\n",
    "script_dir = Path.cwd()"
   ]
  },
  {
   "cell_type": "code",
   "execution_count": 2,
   "metadata": {},
   "outputs": [
    {
     "name": "stdout",
     "output_type": "stream",
     "text": [
      "   FID                                           geometry\n",
      "0    0  POLYGON ((37.94102 50.01651, 37.85176 49.97148...\n"
     ]
    }
   ],
   "source": [
    "def load_focus_region() -> gpd.GeoDataFrame:\n",
    "    \"\"\"\n",
    "    Load the shapefile for the focus region\n",
    "    Author: jan mattis töller\n",
    "\n",
    "    Args:\n",
    "        None\n",
    "    Returns:\n",
    "        shapefile_focus_region (gpd.GeoDataFrame): The shapefile for the focus region\n",
    "    \"\"\"\n",
    "    shapefile_path = script_dir / \"data\" / \"source\" / \"frontlinie.shp\"\n",
    "    shapefile_focus_region = gpd.read_file(shapefile_path)\n",
    "\n",
    "    assert isinstance(shapefile_focus_region, gpd.GeoDataFrame), \"shapefile_focus_region is not a GeoDataFrame\"\n",
    "    return shapefile_focus_region\n",
    "\n",
    "focus_region = load_focus_region()\n",
    "print(focus_region)"
   ]
  },
  {
   "cell_type": "code",
   "execution_count": 3,
   "metadata": {},
   "outputs": [],
   "source": [
    "def load_geotiff(path: Path) -> gpd.GeoDataFrame:\n",
    "    \"\"\"\n",
    "    Load the geotiff file as a rasterio object\n",
    "    Args: \n",
    "        path (Path): Path to the geotiff file\n",
    "    Returns: \n",
    "        geodataframe (gpd.GeoDataFrame): The geopandas GeoDataFrame\n",
    "    \"\"\"\n",
    "    with rio.open(path) as src:\n",
    "        # Read the geotiff file as a numpy array\n",
    "        data = src.read()\n",
    "        meta = src.meta\n",
    "\n",
    "        geodataframe = gpd.GeoDataFrame(\n",
    "            data=data,\n",
    "            crs=meta['crs'],\n",
    "            geometry=[box(*src.bounds)],\n",
    "        )\n",
    "    \n",
    "    assert isinstance(geodataframe, gpd.GeoDataFrame), \"geodataframe is not a GeoDataFrame\"\n",
    "    return geodataframe"
   ]
  },
  {
   "cell_type": "code",
   "execution_count": 4,
   "metadata": {},
   "outputs": [],
   "source": [
    "def index_NDVI(geodataframe: gpd.GeoDataFrame) -> gpd.GeoDataFrame:\n",
    "    \"\"\"\n",
    "    Index the NDVI\n",
    "    Args:\n",
    "        geodataframe (gpd.GeoDataFrame): The geopandas GeoDataFrame\n",
    "    Returns:\n",
    "        indexed_geodataframe (gpd.GeoDataFrame): The indexed geopandas GeoDataFrame\n",
    "    \"\"\"\n",
    "    # Assuming the GeoDataFrame has columns 'NIR' and 'Red' for the respective bands\n",
    "    if 'NIR' not in geodataframe.columns or 'Red' not in geodataframe.columns:\n",
    "        raise ValueError(\"GeoDataFrame must contain 'NIR' and 'Red' columns\")\n",
    "\n",
    "    # Calculate NDVI\n",
    "    geodataframe['NDVI'] = (geodataframe['NIR'] - geodataframe['Red']) / (geodataframe['NIR'] + geodataframe['Red'])\n",
    "\n",
    "    assert isinstance(geodataframe, gpd.GeoDataFrame), \"indexed_geodataframe is not a GeoDataFrame\"\n",
    "    return geodataframe"
   ]
  },
  {
   "cell_type": "code",
   "execution_count": 5,
   "metadata": {},
   "outputs": [],
   "source": [
    "def calculate_raster_difference(geodataframe1: gpd.GeoDataFrame, geodataframe2: gpd.GeoDataFrame) -> gpd.GeoDataFrame:\n",
    "    \"\"\"\n",
    "    Calculate the difference between two rasters\n",
    "    Args:\n",
    "        geodataframe1 (gpd.GeoDataFrame): The first geopandas GeoDataFrame\n",
    "        geodataframe2 (gpd.GeoDataFrame): The second geopandas GeoDataFrame\n",
    "    Returns:\n",
    "        difference_geodataframe (gpd.GeoDataFrame): The difference geopandas GeoDataFrame\n",
    "    \"\"\"\n",
    "    # Ensure both GeoDataFrames have the same columns\n",
    "    if not geodataframe1.columns.equals(geodataframe2.columns):\n",
    "        raise ValueError(\"GeoDataFrames must have the same columns\")\n",
    "\n",
    "    # Calculate the difference for each column except 'geometry'\n",
    "    difference_data = {}\n",
    "    for column in geodataframe1.columns:\n",
    "        if column != 'geometry':\n",
    "            difference_data[column] = geodataframe1[column] - geodataframe2[column]\n",
    "\n",
    "    # Create a new GeoDataFrame with the difference data\n",
    "    difference_geodataframe = gpd.GeoDataFrame(difference_data, \n",
    "                                               crs=geodataframe1.crs, \n",
    "                                               geometry=geodataframe1.geometry)\n",
    "\n",
    "    assert isinstance(difference_geodataframe, gpd.GeoDataFrame), \"difference_geodataframe is not a GeoDataFrame\"\n",
    "    return difference_geodataframe"
   ]
  },
  {
   "cell_type": "code",
   "execution_count": null,
   "metadata": {},
   "outputs": [],
   "source": [
    "# Hauptskript\n",
    "\n",
    "# Load the focus region\n",
    "shapefile_focus_region = load_focus_region()\n",
    "\n",
    "# Load the geotiff file as a rasterio object\n",
    "raster_old = load_geotiff(Path(\"path_to_geotiff_file_old\"))\n",
    "raster_new = load_geotiff(Path(\"path_to_geotiff_file_new\"))\n",
    "\n",
    "# Calculate the NDVI indexs \n",
    "NDVI_old = index_NDVI(raster_old)\n",
    "NDVI_new = index_NDVI(raster_new)\n",
    "\n",
    "# Calculate the difference between the two rasters\n",
    "difference = calculate_raster_difference(NDVI_old, NDVI_new)\n",
    "\n",
    "print(\"Success!\")"
   ]
  }
 ],
 "metadata": {
  "kernelspec": {
   "display_name": "GIS1",
   "language": "python",
   "name": "python3"
  },
  "language_info": {
   "codemirror_mode": {
    "name": "ipython",
    "version": 3
   },
   "file_extension": ".py",
   "mimetype": "text/x-python",
   "name": "python",
   "nbconvert_exporter": "python",
   "pygments_lexer": "ipython3",
   "version": "3.13.2"
  }
 },
 "nbformat": 4,
 "nbformat_minor": 2
}
