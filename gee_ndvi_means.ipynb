{
 "cells": [
  {
   "cell_type": "code",
   "execution_count": 26,
   "metadata": {},
   "outputs": [
    {
     "data": {
      "text/html": [
       "\n",
       "            <style>\n",
       "                .geemap-dark {\n",
       "                    --jp-widgets-color: white;\n",
       "                    --jp-widgets-label-color: white;\n",
       "                    --jp-ui-font-color1: white;\n",
       "                    --jp-layout-color2: #454545;\n",
       "                    background-color: #383838;\n",
       "                }\n",
       "\n",
       "                .geemap-dark .jupyter-button {\n",
       "                    --jp-layout-color3: #383838;\n",
       "                }\n",
       "\n",
       "                .geemap-colab {\n",
       "                    background-color: var(--colab-primary-surface-color, white);\n",
       "                }\n",
       "\n",
       "                .geemap-colab .jupyter-button {\n",
       "                    --jp-layout-color3: var(--colab-primary-surface-color, white);\n",
       "                }\n",
       "            </style>\n",
       "            "
      ],
      "text/plain": [
       "<IPython.core.display.HTML object>"
      ]
     },
     "metadata": {},
     "output_type": "display_data"
    },
    {
     "data": {
      "text/plain": [
       "True"
      ]
     },
     "execution_count": 26,
     "metadata": {},
     "output_type": "execute_result"
    }
   ],
   "source": [
    "# Authenticate Earth Engine (Uncomment on first run)\n",
    "import ee\n",
    "ee.Authenticate()"
   ]
  },
  {
   "cell_type": "code",
   "execution_count": 27,
   "metadata": {},
   "outputs": [
    {
     "data": {
      "text/html": [
       "\n",
       "            <style>\n",
       "                .geemap-dark {\n",
       "                    --jp-widgets-color: white;\n",
       "                    --jp-widgets-label-color: white;\n",
       "                    --jp-ui-font-color1: white;\n",
       "                    --jp-layout-color2: #454545;\n",
       "                    background-color: #383838;\n",
       "                }\n",
       "\n",
       "                .geemap-dark .jupyter-button {\n",
       "                    --jp-layout-color3: #383838;\n",
       "                }\n",
       "\n",
       "                .geemap-colab {\n",
       "                    background-color: var(--colab-primary-surface-color, white);\n",
       "                }\n",
       "\n",
       "                .geemap-colab .jupyter-button {\n",
       "                    --jp-layout-color3: var(--colab-primary-surface-color, white);\n",
       "                }\n",
       "            </style>\n",
       "            "
      ],
      "text/plain": [
       "<IPython.core.display.HTML object>"
      ]
     },
     "metadata": {},
     "output_type": "display_data"
    },
    {
     "data": {
      "application/vnd.jupyter.widget-view+json": {
       "model_id": "016eabc88a8c4f2cb0fc9bf6bcd471f8",
       "version_major": 2,
       "version_minor": 0
      },
      "text/plain": [
       "Map(center=[40, -100], controls=(WidgetControl(options=['position', 'transparent_bg'], widget=SearchDataGUI(ch…"
      ]
     },
     "execution_count": 27,
     "metadata": {},
     "output_type": "execute_result"
    }
   ],
   "source": [
    "import geemap\n",
    "\n",
    "ee.Initialize(project='ee-gis1-ukraine')\n",
    "\n",
    "# Create the map\n",
    "Map = geemap.Map(center=[40, -100], zoom=4)\n",
    "\n",
    "Map"
   ]
  },
  {
   "cell_type": "code",
   "execution_count": 16,
   "metadata": {},
   "outputs": [
    {
     "data": {
      "text/html": [
       "\n",
       "            <style>\n",
       "                .geemap-dark {\n",
       "                    --jp-widgets-color: white;\n",
       "                    --jp-widgets-label-color: white;\n",
       "                    --jp-ui-font-color1: white;\n",
       "                    --jp-layout-color2: #454545;\n",
       "                    background-color: #383838;\n",
       "                }\n",
       "\n",
       "                .geemap-dark .jupyter-button {\n",
       "                    --jp-layout-color3: #383838;\n",
       "                }\n",
       "\n",
       "                .geemap-colab {\n",
       "                    background-color: var(--colab-primary-surface-color, white);\n",
       "                }\n",
       "\n",
       "                .geemap-colab .jupyter-button {\n",
       "                    --jp-layout-color3: var(--colab-primary-surface-color, white);\n",
       "                }\n",
       "            </style>\n",
       "            "
      ],
      "text/plain": [
       "<IPython.core.display.HTML object>"
      ]
     },
     "metadata": {},
     "output_type": "display_data"
    },
    {
     "data": {
      "application/vnd.jupyter.widget-view+json": {
       "model_id": "a47e3139134b4884b14efb8f60d55f99",
       "version_major": 2,
       "version_minor": 0
      },
      "text/plain": [
       "Map(bottom=498.0, center=[49.033845999377135, 31.488846852735307], controls=(WidgetControl(options=['position'…"
      ]
     },
     "execution_count": 16,
     "metadata": {},
     "output_type": "execute_result"
    }
   ],
   "source": [
    "# Get Ukraine boundary\n",
    "ukraine = ee.FeatureCollection('FAO/GAUL/2015/level0') \\\n",
    "    .filter(ee.Filter.eq('ADM0_NAME', 'Ukraine'))\n",
    "\n",
    "# Get Sentinel-2 image collection for June 2019\n",
    "image = ee.ImageCollection('COPERNICUS/S2') \\\n",
    "    .filterDate('2019-06-01', '2019-06-30') \\\n",
    "    .filterBounds(ukraine) \\\n",
    "    .median() \\\n",
    "    .clip(ukraine)\n",
    "\n",
    "# Add NDVI layer\n",
    "ndvi = image.normalizedDifference(['B8', 'B4']).rename('ndvi')\n",
    "image = image.addBands(ndvi)\n",
    "\n",
    "# Visualization parameters for NDVI\n",
    "ndviParams = {\n",
    "    'min': -1,\n",
    "    'max': 1,\n",
    "    'palette': ['blue', 'white', 'green']\n",
    "}\n",
    "\n",
    "# Add NDVI layer to map\n",
    "Map.addLayer(image.select('ndvi'), ndviParams, 'NDVI')\n",
    "\n",
    "# Set center and zoom level for the map\n",
    "Map.centerObject(ukraine, 6)\n",
    "\n",
    "# Display the map\n",
    "Map"
   ]
  },
  {
   "cell_type": "code",
   "execution_count": 48,
   "metadata": {},
   "outputs": [
    {
     "data": {
      "text/html": [
       "\n",
       "            <style>\n",
       "                .geemap-dark {\n",
       "                    --jp-widgets-color: white;\n",
       "                    --jp-widgets-label-color: white;\n",
       "                    --jp-ui-font-color1: white;\n",
       "                    --jp-layout-color2: #454545;\n",
       "                    background-color: #383838;\n",
       "                }\n",
       "\n",
       "                .geemap-dark .jupyter-button {\n",
       "                    --jp-layout-color3: #383838;\n",
       "                }\n",
       "\n",
       "                .geemap-colab {\n",
       "                    background-color: var(--colab-primary-surface-color, white);\n",
       "                }\n",
       "\n",
       "                .geemap-colab .jupyter-button {\n",
       "                    --jp-layout-color3: var(--colab-primary-surface-color, white);\n",
       "                }\n",
       "            </style>\n",
       "            "
      ],
      "text/plain": [
       "<IPython.core.display.HTML object>"
      ]
     },
     "metadata": {},
     "output_type": "display_data"
    },
    {
     "data": {
      "application/vnd.jupyter.widget-view+json": {
       "model_id": "016eabc88a8c4f2cb0fc9bf6bcd471f8",
       "version_major": 2,
       "version_minor": 0
      },
      "text/plain": [
       "Map(bottom=2917217.0, center=[47.97369142346794, 37.46273517608643], controls=(WidgetControl(options=['positio…"
      ]
     },
     "execution_count": 48,
     "metadata": {},
     "output_type": "execute_result"
    }
   ],
   "source": [
    "# Indices: NDVI, MSAVI, EVI\n",
    "\n",
    "def get_monthly_NDVI(year, month):\n",
    "    # Get Ukraine boundary\n",
    "    ukraine = ee.FeatureCollection('FAO/GAUL/2015/level0') \\\n",
    "        .filter(ee.Filter.eq('ADM0_NAME', 'Ukraine'))\n",
    "\n",
    "    # Get Sentinel-2 image collection\n",
    "    image = ee.ImageCollection('COPERNICUS/S2') \\\n",
    "        .filterDate(f'{year}-{month}-01', f'{year}-{month}-30') \\\n",
    "        .filterBounds(ukraine) \\\n",
    "        .median() \\\n",
    "        .clip(ukraine)\n",
    "\n",
    "    # Add NDVI layer\n",
    "    ndvi = image.normalizedDifference(['B8', 'B4']).rename('ndvi')\n",
    "    image = image.addBands(ndvi)\n",
    "\n",
    "    # Visualization parameters for NDVI\n",
    "    ndviParams = {\n",
    "        'min': -1,\n",
    "        'max': 1,\n",
    "        'palette': ['blue', 'white', 'green']\n",
    "    }\n",
    "    \n",
    "    return image.select('ndvi').visualize(**ndviParams), ndviParams\n",
    "\n",
    "def get_monthly_EVI(year, month, mask_clouds=False):\n",
    "    # Get Ukraine boundary\n",
    "    ukraine = ee.FeatureCollection('FAO/GAUL/2015/level0') \\\n",
    "        .filter(ee.Filter.eq('ADM0_NAME', 'Ukraine'))\n",
    "\n",
    "    # Get Sentinel-2 image collection (Level 1C)\n",
    "    image = ee.ImageCollection('COPERNICUS/S2') \\\n",
    "        .filterDate(f'{year}-{month}-01', f'{year}-{month}-30') \\\n",
    "        .filterBounds(ukraine) \\\n",
    "        .median() \\\n",
    "        .clip(ukraine)\n",
    "\n",
    "    # Mask clouds if required using QA60\n",
    "    if mask_clouds:\n",
    "        # Get the QA60 band for cloud masking and convert to integer type\n",
    "        qa60 = image.select('QA60').toInt()\n",
    "\n",
    "        # Create a cloud mask (bit 10 of QA60 indicates cloud cover)\n",
    "        cloud_mask = qa60.bitwiseAnd(1 << 10).eq(0)\n",
    "\n",
    "        # Apply the cloud mask to the image\n",
    "        image = image.updateMask(cloud_mask)\n",
    "\n",
    "    # Add EVI layer\n",
    "    evi = image.expression(\n",
    "        '2.5 * ((NIR - RED) / (NIR + 6 * RED - 7.5 * BLUE + 1))', {\n",
    "            'NIR': image.select('B8'),\n",
    "            'RED': image.select('B4'),\n",
    "            'BLUE': image.select('B2')\n",
    "        }).rename('evi')\n",
    "    image = image.addBands(evi)\n",
    "\n",
    "    # Visualization parameters for EVI, palette should be F5ECD5, 578E7E, 809D3C\n",
    "    eviParams = {\n",
    "        'min': -10,\n",
    "        'max': 10,\n",
    "        'palette': ['F5ECD5', '578E7E', '809D3C']\n",
    "    }\n",
    "    return image.select('evi').visualize(**eviParams), eviParams\n",
    "\n",
    "\n",
    "\n",
    "image, ndviParams = get_monthly_EVI(2019, 6, mask_clouds=True)\n",
    "Map.addLayer(image, {}, 'EVI')\n",
    "Map"
   ]
  },
  {
   "cell_type": "code",
   "execution_count": 44,
   "metadata": {},
   "outputs": [
    {
     "data": {
      "text/html": [
       "\n",
       "            <style>\n",
       "                .geemap-dark {\n",
       "                    --jp-widgets-color: white;\n",
       "                    --jp-widgets-label-color: white;\n",
       "                    --jp-ui-font-color1: white;\n",
       "                    --jp-layout-color2: #454545;\n",
       "                    background-color: #383838;\n",
       "                }\n",
       "\n",
       "                .geemap-dark .jupyter-button {\n",
       "                    --jp-layout-color3: #383838;\n",
       "                }\n",
       "\n",
       "                .geemap-colab {\n",
       "                    background-color: var(--colab-primary-surface-color, white);\n",
       "                }\n",
       "\n",
       "                .geemap-colab .jupyter-button {\n",
       "                    --jp-layout-color3: var(--colab-primary-surface-color, white);\n",
       "                }\n",
       "            </style>\n",
       "            "
      ],
      "text/plain": [
       "<IPython.core.display.HTML object>"
      ]
     },
     "metadata": {},
     "output_type": "display_data"
    },
    {
     "data": {
      "application/vnd.jupyter.widget-view+json": {
       "model_id": "016eabc88a8c4f2cb0fc9bf6bcd471f8",
       "version_major": 2,
       "version_minor": 0
      },
      "text/plain": [
       "Map(bottom=11617.0, center=[48.53843177405046, 32.97546386718751], controls=(WidgetControl(options=['position'…"
      ]
     },
     "execution_count": 44,
     "metadata": {},
     "output_type": "execute_result"
    }
   ],
   "source": [
    "# compare EVI from 2016 and 2024\n",
    "image_2016, eviParams_2016 = get_monthly_EVI(2016, 6)\n",
    "image_2024, eviParams_2024 = get_monthly_EVI(2016, 7)\n",
    "\n",
    "# calculate a difference between 2024 and 2016\n",
    "evi_diff = image_2024.subtract(image_2016)\n",
    "\n",
    "# Visualization parameters for EVI difference\n",
    "eviDiffParams = {\n",
    "    'min': -200,\n",
    "    'max': 0\n",
    "}\n",
    "\n",
    "Map.addLayer(evi_diff, eviDiffParams, 'EVI Difference')\n",
    "Map\n"
   ]
  }
 ],
 "metadata": {
  "kernelspec": {
   "display_name": "gee",
   "language": "python",
   "name": "python3"
  },
  "language_info": {
   "codemirror_mode": {
    "name": "ipython",
    "version": 3
   },
   "file_extension": ".py",
   "mimetype": "text/x-python",
   "name": "python",
   "nbconvert_exporter": "python",
   "pygments_lexer": "ipython3",
   "version": "3.11.11"
  }
 },
 "nbformat": 4,
 "nbformat_minor": 2
}
